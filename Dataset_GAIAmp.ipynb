{
  "nbformat": 4,
  "nbformat_minor": 0,
  "metadata": {
    "colab": {
      "name": "Dataset_GAIAmp.ipynb",
      "provenance": [],
      "collapsed_sections": []
    },
    "kernelspec": {
      "name": "python3",
      "display_name": "Python 3"
    },
    "language_info": {
      "name": "python"
    }
  },
  "cells": [
    {
      "cell_type": "code",
      "metadata": {
        "id": "ZQ5vBz02-K9-"
      },
      "source": [
        "from IPython.display import clear_output\n",
        "!pip install h5py\n",
        "!pip install xarray\n",
        "!pip install h5netcdf\n",
        "clear_output()"
      ],
      "execution_count": null,
      "outputs": []
    },
    {
      "cell_type": "code",
      "metadata": {
        "id": "6TdPfocD83lk"
      },
      "source": [
        "from IPython.display import clear_output\n",
        "!pip install --pre astroquery\n",
        "!conda install -c conda-forge astroquery\n",
        "# If you do not:\n",
        "!git clone https://github.com/astropy/astroquery.git\n",
        "!cd astroquery\n",
        "!python setup.py install\n",
        "clear_output()"
      ],
      "execution_count": null,
      "outputs": []
    },
    {
      "cell_type": "code",
      "metadata": {
        "id": "FrSf6tRj877X"
      },
      "source": [
        "# Python standard library\n",
        "import time\n",
        "import warnings\n",
        "\n",
        "# Third-party software\n",
        "import numpy as np\n",
        "\n",
        "# Astropy\n",
        "from astropy import coordinates as coord\n",
        "from astropy import units as u\n",
        "from astropy.table import Table\n",
        "\n",
        "# Astroquery. This tutorial requires 0.3.5 or greater.\n",
        "import astroquery\n",
        "from astroquery.simbad import Simbad\n",
        "Simbad.add_votable_fields('flux(V)')\n",
        "from astroquery.vizier import Vizier\n",
        "from astroquery.vo_conesearch import conf, conesearch, vos_catalog\n",
        "\n",
        "# Set up matplotlib\n",
        "import matplotlib.pyplot as plt\n",
        "%matplotlib inline\n",
        "from astropy.visualization import astropy_mpl_style\n",
        "\n",
        "from astroquery.skyview import SkyView\n",
        "from astropy.io import fits\n",
        "from astropy.coordinates import Angle\n",
        "from astropy.coordinates import SkyCoord\n",
        "from astropy.wcs import WCS\n",
        "from google.colab import files\n",
        "import math\n",
        "import copy\n",
        "\n",
        "import pandas as pd\n",
        "import sys\n",
        "import cv2\n",
        "import shutil\n",
        "\n",
        "import os, shutil\n",
        "import time\n",
        "from multiprocessing import Pool\n",
        "from functools import partial\n",
        "import xarray as xr\n",
        "\n",
        "import torch\n",
        "from torchvision import transforms\n",
        "from torch.utils.data import DataLoader\n",
        "\n",
        "import albumentations as A\n",
        "\n",
        "import torch.nn as nn\n",
        "import torch.nn.functional as F\n",
        "import torch.nn.init as I\n",
        "\n",
        "import warnings\n",
        "warnings.filterwarnings('ignore')"
      ],
      "execution_count": null,
      "outputs": []
    },
    {
      "cell_type": "code",
      "metadata": {
        "id": "Ap0F5H1KJXDO"
      },
      "source": [
        "# Remove uncorrect rows\n",
        "\n",
        "def remove_uncorrect(table):\n",
        "  #print(\"Before: \" + str(len(table)))\n",
        "  odd_lines = []\n",
        "  for row in table:\n",
        "    num = copy.deepcopy(row.index)\n",
        "    if ((len(row['RA'].split())!=3) or (len(row['DEC'].split())!=3)):\n",
        "      odd_lines.append(num)\n",
        "\n",
        "  table.remove_rows(odd_lines)\n",
        "  #print(\"After: \" + str(len(table)))\n",
        "\n",
        "def remove_uncorrect_on_image(table, bound):\n",
        "  #print(\"Before: \" + str(len(table)))\n",
        "  odd_lines = []\n",
        "  for row in table:\n",
        "    num = copy.deepcopy(row.index)\n",
        "    if float(row['X'])<=0. or float(row['X'])>=bound or float(row['Y'])<=0. or float(row['Y'])>=bound:\n",
        "      odd_lines.append(num)\n",
        "      continue\n",
        "    if float(row['Gmag'])==0. or np.isnan(float(row['Gmag'])):\n",
        "        #if float(row['Bmag'])==0. or np.isnan(float(row['Bmag'])):\n",
        "          odd_lines.append(num)\n",
        "          continue\n",
        "    #if float(row['ePos'])>32:\n",
        "    #  odd_lines.append(num)\n",
        "    #  continue\n",
        "\n",
        "  table.remove_rows(odd_lines)\n",
        "  #print(\"After: \" + str(len(table)))"
      ],
      "execution_count": null,
      "outputs": []
    },
    {
      "cell_type": "code",
      "metadata": {
        "id": "3CwlEjts7aRY"
      },
      "source": [
        "def join(path_red, path_green, path_blue):\n",
        "    files_red = glob.glob(path_red+\"*.png\")\n",
        "    files_green = glob.glob(path_green+\"*.png\")\n",
        "    files_blue = glob.glob(path_blue+\"*.png\")\n",
        "\n",
        "    k=0\n",
        "    for red in files_red:\n",
        "      green = red.replace('red','green')\n",
        "      blue = red.replace('red','blue')\n",
        "      if green in files_green and blue in files_blue:\n",
        "        im_red = np.asarray(Image.open(red), dtype = np.int16)\n",
        "        im_green = np.asarray(Image.open(green), dtype = np.int16)\n",
        "        im_blue = np.asarray(Image.open(blue), dtype = np.int16)\n",
        "        im =cv2.merge((im_red,im_green,im_blue))\n",
        "        image = Image.fromarray(im.astype('uint8'), 'RGB')\n",
        "        image.save(red.replace('red','rgb'))\n",
        "        coords_file = red.replace('.png','.txt')\n",
        "        coords_file = coords_file.replace('image','coor')\n",
        "        shutil.copy(coords_file, coords_file.replace('red','rgb'))\n",
        "        k+=1\n",
        "        if k%500==0:\n",
        "          print(k)"
      ],
      "execution_count": null,
      "outputs": []
    },
    {
      "cell_type": "code",
      "metadata": {
        "id": "aRWUFl-OthaR"
      },
      "source": [
        "# Convert to PIX\n",
        "\n",
        "def Wxy(a, b, c, neg):\n",
        "  if neg:\n",
        "    return -(((c/60)+b)/60-a);\n",
        "  return (((c/60)+b)/60+a); \n",
        "\n",
        "\n",
        "def ra2Wx(ra):\n",
        "  RA = [float(i) for i in ra.split()]\n",
        "  return Wxy(RA[0], RA[1], RA[2], False)*15\n",
        "\n",
        "\n",
        "def dec2Wy(dec):\n",
        "  flag = False\n",
        "  if dec[0] == \"-\":\n",
        "    flag = True \n",
        "  DEC = [float(i) for i in dec.split()]\n",
        "  return Wxy(DEC[0], DEC[1], DEC[2], flag)\n",
        "\n",
        "\n",
        "def separ_a(x):\n",
        "\treturn x[0:9]\n",
        "\n",
        "\n",
        "def separ_b(x):\n",
        "\treturn x[9:19]\n",
        "\n",
        "\n",
        "def add_zeros(x):\n",
        "  a=x\n",
        "  if len(a)<19:\n",
        "     for i in range(19-len(a)):\n",
        "        a = '0' + a\n",
        "  return a\n",
        "\n",
        "\n",
        "def w2p(image, table_stars):\n",
        "  head = WCS(header=image.header)\n",
        "  new_table = copy.deepcopy(table_stars)\n",
        "  k=0\n",
        "  new_table.add_column(1.0, name='RA') \n",
        "  new_table.add_column(1.0, name='DE') \n",
        "  for star in table_stars:\n",
        "      if ~np.isnan(float(star['pmRA'])) and ~np.isnan(float(star['pmDE'])):\n",
        "          pmRA = (star['pmRA'])\n",
        "          pmDE = (star['pmDE'])\n",
        "          world_x = (star['RA_ICRS']-pmRA*6.42/1000./3600.)\n",
        "          world_y = (star['DE_ICRS']-pmDE*6.42/1000./3600.)\n",
        "      else:\n",
        "          world_x = (star['RA_ICRS'])\n",
        "          world_y = (star['DE_ICRS'])\n",
        "      x, y = head.all_world2pix(world_x, world_y ,0, tolerance = 1.0e-8, maxiter=40)\n",
        "      new_table['RA_ICRS'][k] = round(float(x), 8)\n",
        "      new_table['DE_ICRS'][k] = round(float(y), 8)\n",
        "      new_table['RA'][k] = round(float(world_x), 8)\n",
        "      new_table['DE'][k] = round(float(world_y), 8)\n",
        "      new_table['Gmag'][k] = round(star['Gmag'], 8)\n",
        "      #new_table['Bmag'][k] = round(star['Bmag'], 8)\n",
        "      k= k+1\n",
        "  new_table.rename_column('RA_ICRS', 'X')\n",
        "  new_table.rename_column('DE_ICRS', 'Y')\n",
        "  \n",
        "  \n",
        "  bound = head.wcs.crpix[0]*2-1.5\n",
        "  remove_uncorrect_on_image(new_table, bound)\n",
        "  #new_table.remove_column('Gmag')\n",
        "  \n",
        "  new_table.remove_column('pmRA')\n",
        "  new_table.remove_column('pmDE')\n",
        "  new_table = new_table.to_pandas()\n",
        "  # new data frame with split value columns\n",
        "  \n",
        "  new_table[\"Source\"] = new_table[\"Source\"].astype('string')\n",
        "  new_table[\"Source\"] = new_table[\"Source\"].apply(add_zeros)\n",
        "  new_table[\"Name_9\"] = (new_table[\"Source\"].apply(separ_a)).astype('int64')\n",
        "  new_table[\"Name_10\"] = (new_table[\"Source\"].apply(separ_b)).astype('int64')\n",
        "\n",
        "  new_table.pop('Source')\n",
        "  return new_table\n"
      ],
      "execution_count": null,
      "outputs": []
    },
    {
      "cell_type": "code",
      "metadata": {
        "id": "JSqXz2zlJdbt"
      },
      "source": [
        "# Find image\n",
        "\n",
        "def get_image(x, y, rad, pix, cat):\n",
        "  #Fites = SkyView().get_image_list(position=str(x)+\",\" + str(y)  ,survey=['DSS'], pixels = 1024, grid = True, projection = 'Tan',  radius=rad*u.deg)\n",
        "  #print( Fites)\n",
        "  Fites = SkyView().get_images(position=str(x) + \",  \" + str(y) ,survey=[cat], pixels =pix, grid = True, projection = 'Tan',  radius= rad*u.deg)[0][0]\n",
        "  return Fites\n",
        "\n",
        "def get_rgb_image(x, y, rad, pix, image_red):\n",
        "  green = get_image(x, y, rad, pix, 'Mellinger Green')\n",
        "  blue = get_image(x, y, rad, pix, 'Mellinger Blue')\n",
        "  im_red = np.asarray(image_red.data, dtype = np.uint8)\n",
        "  im_green = np.asarray(green.data, dtype = np.uint8)\n",
        "  im_blue = np.asarray(blue.data, dtype = np.uint8)\n",
        "  im = cv2.merge((im_red,im_green,im_blue))\n",
        "  return im\n"
      ],
      "execution_count": null,
      "outputs": []
    },
    {
      "cell_type": "code",
      "metadata": {
        "id": "uNeaYxhRUsf2"
      },
      "source": [
        "from astroquery.vizier import Vizier\n",
        "import astropy.units as u\n",
        "import astropy.coordinates as coord\n",
        "import pandas as pd\n",
        "from astropy import table as tb\n",
        "#I/197A/tic\n",
        "#I/239/hip_main\n",
        "def get_table(x,y,rad, m):\n",
        "  v = Vizier(columns=['RA_ICRS', 'DE_ICRS', 'Gmag', 'pmRA', 'pmDE', 'Source'],#, 'ePos'],\n",
        "           column_filters={\"Gmag\":\"<\" + str(m)})\n",
        "  v.ROW_LIMIT = 5000000\n",
        "  result = v.query_region(coord.SkyCoord(ra=x, dec=y,\n",
        "                                            unit=(u.deg, u.deg),\n",
        "                                            frame='icrs'),\n",
        "                        radius=rad*4.*u.deg,\n",
        "                        catalog=[\"I/345/gaia2\"])\n",
        "  #print(result[0])\n",
        "\n",
        "  return result[0]"
      ],
      "execution_count": null,
      "outputs": []
    },
    {
      "cell_type": "code",
      "metadata": {
        "id": "HUdtH8u-41R0"
      },
      "source": [
        "def get_crop_name(coords):\n",
        "  a = str(int(coords[5].item()))\n",
        "  if len(a)<9:\n",
        "      for i in range(9-len(a)):\n",
        "        a = '0' + a\n",
        "  b = str(int(coords[6].item()))\n",
        "  if len(b)<10:\n",
        "      for i in range(10-len(b)):\n",
        "        b = '0' + b\n",
        "  return a+b\n",
        "  \n",
        "def get_crops(image, coords, rad, pix):\n",
        "  ext_im = []\n",
        "  ext_co = []\n",
        "  #except_stars = []\n",
        "  for star_ind in range(len(coords)):\n",
        "    #if star_ind not in except_stars:\n",
        "      name = get_crop_name(coords[star_ind])\n",
        "      if os.path.exists('dataset'+os.sep+name+\".png\"):\n",
        "        continue\n",
        "      if coords[star_ind][0]>rad and coords[star_ind][0]<pix-rad and coords[star_ind][1]>rad and coords[star_ind][1]<pix-rad:\n",
        "        x, y, rad = int(coords[star_ind][0]), int(coords[star_ind][1]), int(rad)\n",
        "        ii = image[:, y-rad:y+rad, x-rad:x+rad]\n",
        "        cc = torch.tensor([[rad + (coords[star_ind][0]-x), rad + (coords[star_ind][1]-y), coords[star_ind][2],\n",
        "                            coords[star_ind][3], coords[star_ind][4], coords[star_ind][5], coords[star_ind][6]]])\n",
        "        #except_stars.append(star_ind)\n",
        "\n",
        "        xl, xr, yd, yu =x-rad, x+rad, y-rad, y+rad\n",
        "        for ind in range(len(coords)):\n",
        "          if ind==star_ind:\n",
        "            continue\n",
        "          x, y = coords[ind][0], coords[ind][1]\n",
        "          if x>xl and x<xr and y>yd and y<yu:\n",
        "            c2 = torch.tensor([[x-xl, y-yd, coords[ind][2], coords[ind][3], coords[ind][4], coords[ind][5], coords[ind][6]]])\n",
        "            cc = torch.cat((cc, c2), 0)\n",
        "          #except_stars.append(ind)\n",
        "        ext_im.append(ii)\n",
        "        ext_co.append(cc)\n",
        "\n",
        "  #return  np.stack(ext_im),  np.stack( ext_co)\n",
        "  return  ext_im,  ext_co"
      ],
      "execution_count": null,
      "outputs": []
    },
    {
      "cell_type": "code",
      "metadata": {
        "id": "9FJn2KJjKwtz"
      },
      "source": [
        "# Main\n",
        "\n",
        "def gen_data(x,y, rad, pix, mag, crop_shape):\n",
        "  table = get_table(x ,y,rad, mag)\n",
        "  red = get_image(x,y, rad*2., pix, 'Mellinger Red')\n",
        "  pix_table = w2p(red, table)\n",
        "\n",
        "  pix_table = np.array(pix_table, dtype = np.float64)\n",
        "  image = get_rgb_image(x,y, rad*2., pix, red)\n",
        "  image = np.moveaxis(image, -1, 0)\n",
        "  crops, coords = get_crops(image, pix_table , int(crop_shape/2), pix)\n",
        "  #print(crops[0].shape)\n",
        "  #print(coords[0].shape)\n",
        "  #show_color_image(crops[0], coords[0])\n",
        "\n",
        "  return crops, coords\n",
        "\n"
      ],
      "execution_count": null,
      "outputs": []
    },
    {
      "cell_type": "code",
      "metadata": {
        "id": "GGLkDTEU1lbZ"
      },
      "source": [
        "def show_image(data, coor):\n",
        "  plt.figure(figsize=(10,10))\n",
        "  img = Image.fromarray(data)\n",
        "  img = np.array(img)\n",
        "  img = img/img.max()\n",
        "  #display(img.resize((256,256), Image.LANCZOS))\n",
        "  plt.imshow(img, vmin=0, vmax=0.5)    \n",
        "  coor=np.array(coor)\n",
        "  plt.scatter(coor[:,0],coor[:,1], c = 'red', s= 4)\n",
        "\n",
        "def show_color_image(data, coor):\n",
        "  plt.figure(figsize=(10,10))\n",
        "  img = (data)\n",
        "  img = img/img.max()\n",
        "  #display(img.resize((256,256), Image.LANCZOS))\n",
        "  plt.imshow(np.transpose(img, (1, 2, 0)), vmin=0, vmax=0.5)    \n",
        "  coor=np.array(coor)\n",
        "  plt.scatter(coor[:,0],coor[:,1], c = 'red', s= 1)"
      ],
      "execution_count": null,
      "outputs": []
    },
    {
      "cell_type": "code",
      "metadata": {
        "id": "sGzzAHK7kKnF"
      },
      "source": [
        "import os\n",
        "from PIL import Image\n",
        "\n",
        "def get_name(coords):\n",
        "  a = str(int(coords[0][5].item()))\n",
        "  if len(a)<9:\n",
        "      for i in range(9-len(a)):\n",
        "        a = '0' + a\n",
        "  b = str(int(coords[0][6].item()))\n",
        "  if len(b)<10:\n",
        "      for i in range(10-len(b)):\n",
        "        b = '0' + b\n",
        "  return a+b\n",
        "\n",
        "def dump(folder_name,name,data):\n",
        "  if not os.path.exists(folder_name):\n",
        "      os.makedirs(folder_name)\n",
        "  for i in range(len(data[1])):\n",
        "\n",
        "    image = np.moveaxis(data[0][i], 0, -1)\n",
        "    coords = data[1][i]\n",
        "    name = get_name(coords)\n",
        "    if os.path.exists('dataset'+os.sep+name+\".png\"):\n",
        "     continue\n",
        "    #image = np.moveaxis(data[0], 0, -1)\n",
        "    pil = Image.fromarray(image.astype('uint8'), 'RGB') #Image.fromarray(raw_im,'I;16')\n",
        "    pil.save(os.path.join(folder_name, f\"{name}.png\"))\n",
        "    #local_coords = coords.astype(float)\n",
        "    np.savetxt(os.path.join(folder_name, f\"{name}.txt\"),coords)"
      ],
      "execution_count": null,
      "outputs": []
    },
    {
      "cell_type": "code",
      "source": [
        "def func3(x, y, Rad, Pix, Mag):\n",
        "  if True:#not os.path.exists('dataset'+os.sep+name+\".png\"):\n",
        "      #clear_output()\n",
        "      x=1.5*x\n",
        "\n",
        "      try:\n",
        "        data = gen_data(x,y, Rad, Pix, Mag, 32)\n",
        "      except Exception:\n",
        "        print(\"Image\" ,x,y, \"not found\")\n",
        "        return\n",
        "      dump('dataset',f'{x}_{y}_{step}',data)\n",
        "      #dataset.append(data)\n",
        "      print(\"Image:\" ,x,y)\n",
        "      print(\"Stars on image:\" ,len(data[1]))\n",
        "      print()"
      ],
      "metadata": {
        "id": "c0BlLrnMwEGE"
      },
      "execution_count": null,
      "outputs": []
    },
    {
      "cell_type": "code",
      "source": [
        "\n",
        "!rm -rf 'dataset'"
      ],
      "metadata": {
        "id": "v_B8jMgBewWb"
      },
      "execution_count": null,
      "outputs": []
    },
    {
      "cell_type": "code",
      "metadata": {
        "id": "RTpMeD-u8-Mn"
      },
      "source": [
        "# Select star region\n",
        "# If you have \"Error HTTP TimeOut\", then shorten the interval\n",
        "from google.colab import files\n",
        "\n",
        "y=10\n",
        "step = 1.5\n",
        "y = -step\n",
        "dataset = []\n",
        "images = []\n",
        "coords = []\n",
        "n= 20\n",
        "m=240\n",
        "\n",
        "Mag = 9\n",
        "Rad = 1\n",
        "Pix = 256\n",
        "k=0\n",
        "\n",
        "\n",
        "for i in range(n):\n",
        "  x = -step\n",
        "  y += step\n",
        "  process = 10\n",
        "  l = len(dataset)\n",
        "  with Pool(processes=process) as pool:\n",
        "      pool.map(partial(func3, y=y, Rad=Rad, Pix=Pix, Mag=Mag), range(0, m))\n",
        "\n",
        "    \n"
      ],
      "execution_count": null,
      "outputs": []
    },
    {
      "cell_type": "code",
      "metadata": {
        "id": "zjMoltHT0ZFi"
      },
      "source": [
        "from google.colab import files\n",
        "!zip -r dataset.zip dataset\n",
        "files.download('dataset.zip') "
      ],
      "execution_count": null,
      "outputs": []
    },
    {
      "cell_type": "code",
      "metadata": {
        "id": "rW2sZWoQrP40"
      },
      "source": [
        "from PIL import Image\n",
        "def show(dataset, l, size, rows, cols, ss):\n",
        "  plt.style.use(astropy_mpl_style)\n",
        "  fig = plt.figure(figsize=(size,size))\n",
        "  number_of_files = len(dataset)\n",
        "  for i in range(min(number_of_files, l)):\n",
        "    image_file = dataset[i][0]\n",
        "    image_data = np.array(image_file.data, dtype = 'int32')\n",
        "    image_data = image_data/image_data.max()\n",
        "    a=fig.add_subplot(rows,cols,i+1)\n",
        "    plt.imshow(image_data,  vmin=0, vmax=0.5, cmap='gray')\n",
        "    plt.scatter(np.array(dataset[i][1]['X'], dtype = 'float32'),np.array(dataset[i][1]['Y'], dtype = 'float32'), c = 'red', s= ss)\n",
        "  plt.show()"
      ],
      "execution_count": null,
      "outputs": []
    },
    {
      "cell_type": "code",
      "metadata": {
        "id": "T6IwDpac6W5L"
      },
      "source": [
        "l = len(dataset)\n",
        "\n",
        "show(dataset[0], l, 15, 1, 1 , ss=1)"
      ],
      "execution_count": null,
      "outputs": []
    },
    {
      "cell_type": "code",
      "source": [
        ""
      ],
      "metadata": {
        "id": "iNOYIQGRTSg-"
      },
      "execution_count": null,
      "outputs": []
    }
  ]
}